{
 "cells": [
  {
   "cell_type": "code",
   "execution_count": null,
   "metadata": {},
   "outputs": [
    {
     "data": {
      "text/plain": [
       "10\n"
      ]
     },
     "metadata": {},
     "output_type": "display_data"
    }
   ],
   "source": [
    "print(10)"
   ]
  },
  {
   "cell_type": "code",
   "execution_count": null,
   "metadata": {},
   "outputs": [
    {
     "data": {
      "text/plain": [
       "   diametro  preco\n",
       "0        20     50\n",
       "1        22     60\n",
       "2        24     70\n",
       "3        26     80\n",
       "4        28     90\n",
       "5        30    100\n",
       "6        32    110\n",
       "7        34    120\n",
       "8        36    130\n",
       "9        38    140\n"
      ]
     },
     "metadata": {},
     "output_type": "display_data"
    }
   ],
   "source": [
    "import pandas as pd\n",
    "\n",
    "\n",
    "df = pd.read_csv('pizzas.csv')\n",
    "\n",
    "print(df)\n",
    "\n",
    "#Ler o arquivo pizzas.csv e mostrar o conteúdo na tela"
   ]
  },
  {
   "cell_type": "code",
   "execution_count": null,
   "metadata": {},
   "outputs": [],
   "source": [
    "import matplotlib.pyplot as plt\n",
    "\n",
    "df.plot(kind='scatter', x='diametro', y='preco')\n",
    "\n",
    "plt.show()\n",
    "\n",
    "#cria um gráfico de dispersão com os dados do arquivo pizzas.csv"
   ]
  },
  {
   "cell_type": "code",
   "execution_count": null,
   "metadata": {},
   "outputs": [
    {
     "data": {
      "text/plain": [
       "   diametro\n",
       "0        20\n",
       "1        22\n",
       "2        24\n",
       "3        26\n",
       "4        28\n",
       "5        30\n",
       "6        32\n",
       "7        34\n",
       "8        36\n",
       "9        38\n"
      ]
     },
     "metadata": {},
     "output_type": "display_data"
    }
   ],
   "source": [
    "print(df[[\"diametro\"]])"
   ]
  },
  {
   "cell_type": "code",
   "execution_count": null,
   "metadata": {},
   "outputs": [],
   "source": [
    "from sklearn import linear_model\n",
    "\n",
    "modelo = linear_model.LinearRegression()\n",
    "\n",
    "#Treinando o modelo \n",
    "\n",
    "x = df[[\"diametro\"]]\n",
    "y = df[[\"preco\"]]\n",
    "\n",
    "#Treinando o modelo\n",
    "modelo.fit(x, y)"
   ]
  },
  {
   "cell_type": "code",
   "execution_count": null,
   "metadata": {},
   "outputs": [
    {
     "data": {
      "text/plain": [
       "[[110.]]\n"
      ]
     },
     "metadata": {},
     "output_type": "display_data"
    }
   ],
   "source": [
    "# Fazendo previsões\n",
    "modelo.predict([[32]]) # 32 cm de diâmetro ele ja sabe o preço\n",
    "# Assim elen traz [[]] com o preço pois foi na coluna preço que ele treinou o modelo\n"
   ]
  },
  {
   "cell_type": "code",
   "execution_count": null,
   "metadata": {},
   "outputs": [
    {
     "data": {
      "text/plain": [
       "105.0\n"
      ]
     },
     "metadata": {},
     "output_type": "display_data"
    }
   ],
   "source": [
    "modelo.predict([[31]])[0][0] # 31 cm de diâmetro ele ja sabe o preço\n",
    "# Assim ele traz o preço sem os [[]] pois foi na coluna preço que ele treinou o modelo"
   ]
  },
  {
   "cell_type": "code",
   "execution_count": null,
   "metadata": {},
   "outputs": [
    {
     "data": {
      "text/plain": [
       "[[5.]]\n"
      ]
     },
     "metadata": {},
     "output_type": "display_data"
    }
   ],
   "source": [
    "modelo.coef_ # coeficiente angular"
   ]
  }
 ],
 "metadata": {
  "language_info": {
   "name": "python"
  }
 },
 "nbformat": 4,
 "nbformat_minor": 2
}
